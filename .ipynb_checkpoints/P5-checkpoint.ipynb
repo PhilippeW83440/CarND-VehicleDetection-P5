{
 "cells": [
  {
   "cell_type": "code",
   "execution_count": null,
   "metadata": {},
   "outputs": [],
   "source": [
    "import numpy as np\n",
    "import cv2\n",
    "import glob\n",
    "import matplotlib.pyplot as plt\n",
    "%matplotlib inline\n"
   ]
  },
  {
   "cell_type": "code",
   "execution_count": null,
   "metadata": {},
   "outputs": [],
   "source": [
    "import time"
   ]
  },
  {
   "cell_type": "markdown",
   "metadata": {},
   "source": [
    "# Load the data"
   ]
  },
  {
   "cell_type": "code",
   "execution_count": null,
   "metadata": {},
   "outputs": [],
   "source": [
    "cars = glob.glob(\"./vehicles/*/*.png\")\n",
    "non_cars = glob.glob(\"./non-vehicles/*/*.png\")\n",
    "\n",
    "print(len(cars))\n",
    "\n",
    "t=time.time()\n",
    "X=[]\n",
    "for car in cars:\n",
    "    image = cv2.imread(car)\n",
    "    image = cv2.cvtColor(image, cv2.COLOR_BGR2RGB)\n",
    "    X.append(image)\n",
    "for non_car in non_cars:\n",
    "    image = cv2.imread(non_car)\n",
    "    image = cv2.cvtColor(image, cv2.COLOR_BGR2RGB)\n",
    "    X.append(image)\n",
    "X = np.array(X)\n",
    "print(len(X))\n",
    "t2 = time.time()\n",
    "print(round(t2-t, 2), 'Seconds to load the data...')"
   ]
  },
  {
   "cell_type": "code",
   "execution_count": null,
   "metadata": {},
   "outputs": [],
   "source": [
    "Y = np.concatenate([np.ones(len(cars)), np.zeros(len(non_cars))])\n",
    "print(Y)\n",
    "print(len(Y))"
   ]
  },
  {
   "cell_type": "code",
   "execution_count": null,
   "metadata": {},
   "outputs": [],
   "source": [
    "# Plot the examples\n",
    "fig = plt.figure()\n",
    "plt.subplot(121)\n",
    "plt.imshow(X[1])\n",
    "plt.title('Example Car Image')\n",
    "plt.subplot(122)\n",
    "plt.imshow(X[-1])\n",
    "plt.title('Example Not-car Image')"
   ]
  },
  {
   "cell_type": "markdown",
   "metadata": {},
   "source": [
    "# Training and validation set split"
   ]
  },
  {
   "cell_type": "code",
   "execution_count": null,
   "metadata": {},
   "outputs": [],
   "source": [
    "from sklearn.model_selection import train_test_split\n",
    "X_train, X_test, Y_train, Y_test = train_test_split(X, Y, test_size=0.10)\n",
    "\n",
    "print('X_train shape:', X_train.shape)\n",
    "print(X_train.shape[0], 'train samples')\n",
    "print(X_test.shape[0], 'test samples')"
   ]
  },
  {
   "cell_type": "markdown",
   "metadata": {},
   "source": [
    "# Train with Keras a convnet classifier model"
   ]
  },
  {
   "cell_type": "code",
   "execution_count": null,
   "metadata": {},
   "outputs": [],
   "source": [
    "from keras.models import Sequential\n",
    "from keras.layers import Dense, Dropout, Activation, Flatten,Lambda\n",
    "from keras.layers import Convolution2D, MaxPooling2D\n",
    "from keras.utils import np_utils\n",
    "from keras import backend as K\n",
    "\n",
    "\n",
    "def convnet(input_shape=(64,64,3), filename=None):\n",
    "    model = Sequential()\n",
    "    model.add(Lambda(lambda x: x/127.5 - 1.,input_shape=input_shape, output_shape=input_shape))\n",
    "    model.add(Convolution2D(64, 3, 3, activation='relu', name='conv1',input_shape=input_shape, border_mode=\"same\"))\n",
    "    model.add(Convolution2D(64, 3, 3, activation='relu', name='conv2',border_mode=\"same\"))\n",
    "    model.add(MaxPooling2D(pool_size=(2,2)))\n",
    "    #model.add(Dropout(0.25))\n",
    "    model.add(Convolution2D(128, 3, 3, activation='relu', name='conv3',border_mode=\"same\"))\n",
    "    model.add(Convolution2D(128, 3, 3, activation='relu', name='conv4',border_mode=\"same\"))\n",
    "    model.add(MaxPooling2D(pool_size=(2,2)))\n",
    "    #model.add(Dropout(0.25))\n",
    "    model.add(Convolution2D(256, 3, 3, activation='relu', name='conv5',border_mode=\"same\"))\n",
    "    model.add(Convolution2D(256, 3, 3, activation='relu', name='conv6',border_mode=\"same\"))\n",
    "    #model.add(Convolution2D(256, 3, 3, activation='relu', name='conv7',border_mode=\"same\"))\n",
    "    model.add(MaxPooling2D(pool_size=(2,2)))\n",
    "    #model.add(Dropout(0.25))\n",
    "    model.add(Convolution2D(256,8,8,activation=\"relu\",name=\"dense1\")) # This was Dense(128)\n",
    "    #model.add(Dropout(0.25))\n",
    "    model.add(Convolution2D(1,1,1,name=\"dense2\", activation=\"tanh\")) # This was Dense(1)\n",
    "    if filename:\n",
    "        model.load_weights(filename)        \n",
    "    return model\n",
    "\n",
    "model = convnet()\n",
    "model.add(Flatten()) # (None, 1, 1, 1) -> (None, 1)\n",
    "model.summary()"
   ]
  },
  {
   "cell_type": "code",
   "execution_count": null,
   "metadata": {},
   "outputs": [],
   "source": [
    "from keras.callbacks import ModelCheckpoint, EarlyStopping\n",
    "\n",
    "model.compile(loss='mse', optimizer='adam', metrics=['accuracy'])\n",
    "\n",
    "PATIENCE = 3\n",
    "\n",
    "#filepath=\"model.epoch{epoch:02d}-valloss{val_loss:.4f}.h5\"\n",
    "#checkpoint = ModelCheckpoint(filepath, verbose=1)\n",
    "\n",
    "early_stopping = EarlyStopping(monitor='val_loss', patience=PATIENCE, verbose=1)\n",
    "\n",
    "t=time.time()\n",
    "history_object = model.fit(X_train, Y_train, batch_size=32, nb_epoch=30, verbose=1, validation_data=(X_test, Y_test), callbacks = [early_stopping])\n",
    "t2=time.time()\n",
    "print(round(t2-t, 2), 'Seconds to train the model...')\n",
    "\n",
    "score = model.evaluate(X_test, Y_test, verbose=0)\n",
    "print('Test score:', score[0])\n",
    "print('Test accuracy:', score[1])\n",
    "model.save_weights(\"convnet.h5\")\n"
   ]
  },
  {
   "cell_type": "code",
   "execution_count": null,
   "metadata": {},
   "outputs": [],
   "source": [
    "### plot the training and validation loss for each epoch\n",
    "plt.plot(history_object.history['loss'])\n",
    "plt.plot(history_object.history['val_loss'])\n",
    "plt.title('model mean squared error loss')\n",
    "plt.ylabel('mean squared error loss')\n",
    "plt.xlabel('epoch')\n",
    "plt.legend(['training set', 'validation set'], loc='upper right')\n",
    "plt.savefig('history.png')\n",
    "plt.show()"
   ]
  },
  {
   "cell_type": "code",
   "execution_count": null,
   "metadata": {},
   "outputs": [],
   "source": [
    "### plot the training and validation loss for each epoch\n",
    "plt.plot(history_object.history['acc'])\n",
    "plt.plot(history_object.history['val_acc'])\n",
    "plt.title('model accuracy')\n",
    "plt.ylabel('accuracy')\n",
    "plt.xlabel('epoch')\n",
    "plt.legend(['training set', 'validation set'], loc='upper right')\n",
    "plt.savefig('history.png')\n",
    "plt.show()"
   ]
  },
  {
   "cell_type": "code",
   "execution_count": null,
   "metadata": {},
   "outputs": [],
   "source": [
    "ls"
   ]
  },
  {
   "cell_type": "markdown",
   "metadata": {},
   "source": [
    "# Create pipeline"
   ]
  },
  {
   "cell_type": "code",
   "execution_count": null,
   "metadata": {},
   "outputs": [],
   "source": [
    "HOTMAP_THRES =  0.9999999 #0.99\n",
    "#HOTMAP_THRES = 0.999999 #0.99\n",
    "MH = 64\n",
    "MW = 64\n",
    "CROP_YMIN = 400\n",
    "CROP_YMAX = 660\n",
    "N_FRAMES_FILTER = 1 # 1 # 3 # 3\n",
    "\n",
    "SCALE0 = 0.5 # 0.5\n",
    "SCALE1 = 1.2 # 1.2\n",
    "SCALE1 = 0.7\n",
    "SCALE2 = 1.8 # 1.8 #1.8\n",
    "\n",
    "DEBUG = 1"
   ]
  },
  {
   "cell_type": "code",
   "execution_count": null,
   "metadata": {},
   "outputs": [],
   "source": [
    "heatmodel = convnet(input_shape=(None, None, 3), filename=\"convnet.h5\")\n",
    "heatmodel.summary()"
   ]
  },
  {
   "cell_type": "code",
   "execution_count": null,
   "metadata": {},
   "outputs": [],
   "source": [
    "def add_heat(heatmap, bbox_list):\n",
    "    # Iterate through list of bboxes\n",
    "    for box in bbox_list:\n",
    "        # Add += 1 for all pixels inside each bbox\n",
    "        # Assuming each \"box\" takes the form ((x1, y1), (x2, y2))\n",
    "        heatmap[box[0][1]:box[1][1], box[0][0]:box[1][0]] += 1\n",
    "\n",
    "    # Return updated heatmap\n",
    "    return heatmap# Iterate through list of bboxes\n",
    "    \n",
    "def apply_threshold(heatmap, threshold):\n",
    "    # Zero out pixels below the threshold\n",
    "    heatmap[heatmap <= threshold] = 0\n",
    "    # Return thresholded map\n",
    "    return heatmap\n",
    "\n",
    "def draw_labeled_bboxes(img, labels):\n",
    "    # Iterate through all detected cars\n",
    "    for car_number in range(1, labels[1]+1):\n",
    "        # Find pixels with each car_number label value\n",
    "        nonzero = (labels[0] == car_number).nonzero()\n",
    "        # Identify x and y values of those pixels\n",
    "        nonzeroy = np.array(nonzero[0])\n",
    "        nonzerox = np.array(nonzero[1])\n",
    "        # Define a bounding box based on min/max x and y\n",
    "        bbox = ((np.min(nonzerox), np.min(nonzeroy)), (np.max(nonzerox), np.max(nonzeroy)))\n",
    "        # Draw the box on the image\n",
    "        cv2.rectangle(img, bbox[0], bbox[1], (0,0,255), 6)\n",
    "    # Return the image\n",
    "    return img"
   ]
  },
  {
   "cell_type": "code",
   "execution_count": null,
   "metadata": {},
   "outputs": [],
   "source": [
    "def find_boxes_front(hotmap, boxes, scale, crop_ymin=0, crop_xmin=0):\n",
    "    # This finds us boxes around detected cars\n",
    "    xx, yy = np.meshgrid(np.arange(hotmap.shape[2]), np.arange(hotmap.shape[1]))\n",
    "    x = (xx[hotmap[0,:,:,0] > HOTMAP_THRES])\n",
    "    y = (yy[hotmap[0,:,:,0] > HOTMAP_THRES])\n",
    "    \n",
    "    # We save those rects in a list\n",
    "    mw = int(scale * MW)\n",
    "    mh = int(scale * MH)\n",
    "    for i,j in zip(x,y):\n",
    "        mx = int(scale*(i*8))+crop_xmin\n",
    "        my = int(scale*(j*8))+crop_ymin\n",
    "        boxes.append((mx, my, mw, mh))\n",
    "\n",
    "def find_boxes(hotmap, boxes, scale, crop_ymin=0, crop_xmin=0):\n",
    "    # This finds us boxes around detected cars\n",
    "    xx, yy = np.meshgrid(np.arange(hotmap.shape[2]), np.arange(hotmap.shape[1]))\n",
    "    x = (xx[hotmap[0,:,:,0] > HOTMAP_THRES])\n",
    "    y = (yy[hotmap[0,:,:,0] > HOTMAP_THRES])\n",
    "    \n",
    "    # We save those rects in a list\n",
    "    mw = int(scale * MW)\n",
    "    mh = int(scale * MH)\n",
    "    for i,j in zip(x,y):\n",
    "        mx = int(scale*(i*8))+crop_xmin\n",
    "        my = int(scale*(j*8))+crop_ymin\n",
    "        # XXX boxes.append(((mx, my), (mx+mw, my+mh)))\n",
    "        if DEBUG == 1:\n",
    "            boxes.append((mx, my, mw, mh))\n",
    "        else:\n",
    "            boxes.append(((mx, my), (mx+mw, my+mh)))\n"
   ]
  },
  {
   "cell_type": "code",
   "execution_count": null,
   "metadata": {},
   "outputs": [],
   "source": [
    "import collections\n",
    "heatmaps = collections.deque(maxlen=N_FRAMES_FILTER)\n"
   ]
  },
  {
   "cell_type": "code",
   "execution_count": null,
   "metadata": {},
   "outputs": [],
   "source": [
    "from scipy.ndimage.measurements import label\n",
    "\n",
    "def process_image(img):\n",
    "    orig_img = img.copy()\n",
    "    # We crop the image to 400-660px in the vertical direction from 720x1280\n",
    "    #crop_img = orig_img[CROP_YMIN:CROP_YMAX, :] # TODO MAKE THAT DYNAMIC based on img.shape\n",
    "        \n",
    "    boxes = []\n",
    "    \n",
    "    \n",
    "    scales = [0.8, 1, 1.2]\n",
    "    #scales = [1.0]\n",
    "    for scale in scales:\n",
    "        #crop_img = orig_img[CROP_YMIN:550, 400::] # 150 -> 250\n",
    "        crop_img = orig_img\n",
    "        dimx = int(crop_img.shape[0]/scale)\n",
    "        dimy = int(crop_img.shape[1]/scale)\n",
    "        resized_img = cv2.resize(crop_img, (dimy, dimx), interpolation=cv2.INTER_AREA)\n",
    "        hotmap1 = heatmodel.predict(resized_img.reshape(1, resized_img.shape[0], resized_img.shape[1], resized_img.shape[2]))\n",
    "        #find_boxes(hotmap1, boxes, scale=SCALE1, crop_ymin=CROP_YMIN, crop_xmin=400) # 150 -> 250\n",
    "        find_boxes(hotmap1, boxes, scale=scale)\n",
    "    \n",
    "    # XXX PWE TEMP\n",
    "    if DEBUG == 1:\n",
    "        for (mx,my,mw,mh) in boxes:\n",
    "            cv2.rectangle(orig_img, (mx, my), (mx+mw, my+mh), (0,0,255), 5)\n",
    "        return orig_img\n",
    "\n",
    "    heat = np.zeros_like(orig_img[:,:,0]).astype(np.float)\n",
    "    \n",
    "    # Add heat to each box in box list\n",
    "    heat = add_heat(heat, boxes)\n",
    "    heatmaps.append(heat)\n",
    "    heatmaps_sum = sum(heatmaps)\n",
    "    \n",
    "    # Apply threshold to help remove false positives\n",
    "    #heatmaps_sum = apply_threshold(heatmaps_sum, N_FRAMES_FILTER*2) #*3\n",
    "\n",
    "    # Visualize the heatmap when displaying    \n",
    "    heatmap = np.clip(heatmaps_sum, 0, 255)\n",
    "    \n",
    "    # Find final boxes from heatmap using label function\n",
    "    labels = label(heatmap)\n",
    "    draw_img = draw_labeled_bboxes(orig_img, labels)\n",
    "    \n",
    "    return draw_img\n"
   ]
  },
  {
   "cell_type": "code",
   "execution_count": null,
   "metadata": {},
   "outputs": [],
   "source": [
    "heatmaps.clear()\n",
    "\n",
    "image = cv2.imread('test_images/image10.png')\n",
    "original = cv2.cvtColor(image, cv2.COLOR_BGR2RGB)\n",
    "\n",
    "t=time.time()\n",
    "result = process_image(original)\n",
    "t2=time.time()\n",
    "print(round(t2-t, 2), 'Seconds to process an image...')\n",
    "\n",
    "# Plot the result\n",
    "f, (ax1, ax2) = plt.subplots(1, 2, figsize=(24, 9))\n",
    "f.tight_layout()\n",
    "\n",
    "ax1.imshow(original)\n",
    "ax1.set_title('Original Image', fontsize=40)\n",
    "\n",
    "ax2.imshow(result, cmap='gray')\n",
    "ax2.set_title('Pipeline Result', fontsize=40)\n",
    "    \n",
    "plt.subplots_adjust(left=0., right=1, top=0.9, bottom=0.)"
   ]
  },
  {
   "cell_type": "code",
   "execution_count": null,
   "metadata": {},
   "outputs": [],
   "source": [
    "heatmaps.clear()\n",
    "\n",
    "image = cv2.imread('test_images/image6.png')\n",
    "original = cv2.cvtColor(image, cv2.COLOR_BGR2RGB)\n",
    "\n",
    "t=time.time()\n",
    "result = process_image(original)\n",
    "t2=time.time()\n",
    "print(round(t2-t, 2), 'Seconds to process an image...')\n",
    "\n",
    "# Plot the result\n",
    "f, (ax1, ax2) = plt.subplots(1, 2, figsize=(24, 9))\n",
    "f.tight_layout()\n",
    "\n",
    "ax1.imshow(original)\n",
    "ax1.set_title('Original Image', fontsize=40)\n",
    "\n",
    "ax2.imshow(result, cmap='gray')\n",
    "ax2.set_title('Pipeline Result', fontsize=40)\n",
    "    \n",
    "plt.subplots_adjust(left=0., right=1, top=0.9, bottom=0.)"
   ]
  },
  {
   "cell_type": "code",
   "execution_count": null,
   "metadata": {},
   "outputs": [],
   "source": [
    "# test case\n",
    "images = glob.glob('test_images/test*.jpg')\n",
    "for idx, fname in enumerate(images):\n",
    "    heatmaps.clear()\n",
    "    image = cv2.imread(fname)\n",
    "    original = cv2.cvtColor(image, cv2.COLOR_BGR2RGB)\n",
    "    result = process_image(original)\n",
    "\n",
    "    # Plot the result\n",
    "    f, (ax1, ax2) = plt.subplots(1, 2, figsize=(24, 9))\n",
    "    f.tight_layout()\n",
    "\n",
    "    ax1.imshow(original)\n",
    "    ax1.set_title('Original Image', fontsize=40)\n",
    "\n",
    "    ax2.imshow(result, cmap='gray')\n",
    "    ax2.set_title('Pipeline Result', fontsize=40)"
   ]
  },
  {
   "cell_type": "markdown",
   "metadata": {},
   "source": [
    "# Test on Videos"
   ]
  },
  {
   "cell_type": "code",
   "execution_count": null,
   "metadata": {},
   "outputs": [],
   "source": [
    "# Import everything needed to edit/save/watch video clips\n",
    "from moviepy.editor import VideoFileClip\n",
    "from IPython.display import HTML"
   ]
  },
  {
   "cell_type": "code",
   "execution_count": null,
   "metadata": {},
   "outputs": [],
   "source": [
    "ls"
   ]
  },
  {
   "cell_type": "code",
   "execution_count": null,
   "metadata": {},
   "outputs": [],
   "source": [
    "heatmaps.clear()\n",
    "output = 'test_video_out1.mp4'\n",
    "clip1 = VideoFileClip(\"test_video.mp4\")\n",
    "test_clip = clip1.fl_image(process_image) #NOTE: this function expects color images!!\n",
    "%time test_clip.write_videofile(output, audio=False)"
   ]
  },
  {
   "cell_type": "code",
   "execution_count": null,
   "metadata": {},
   "outputs": [],
   "source": [
    "heatmaps.clear()\n",
    "output = 'project_video_out1.mp4'\n",
    "clip1 = VideoFileClip(\"project_video.mp4\").subclip(0.2,51)\n",
    "#clip1 = VideoFileClip(\"project_video.mp4\").subclip(0,5)\n",
    "#clip1 = VideoFileClip(\"project_video.mp4\")\n",
    "test_clip = clip1.fl_image(process_image) #NOTE: this function expects color images!!\n",
    "%time test_clip.write_videofile(output, audio=False)"
   ]
  },
  {
   "cell_type": "markdown",
   "metadata": {},
   "source": [
    "# Debug area"
   ]
  },
  {
   "cell_type": "code",
   "execution_count": null,
   "metadata": {},
   "outputs": [],
   "source": [
    "THRESHOLD = 0.99"
   ]
  },
  {
   "cell_type": "code",
   "execution_count": null,
   "metadata": {},
   "outputs": [],
   "source": [
    "heatmodel = convnet(input_shape=(None, None, 3), filename=\"convnet.h5\")"
   ]
  },
  {
   "cell_type": "code",
   "execution_count": null,
   "metadata": {},
   "outputs": [],
   "source": [
    "heatmodel.summary()"
   ]
  },
  {
   "cell_type": "code",
   "execution_count": null,
   "metadata": {},
   "outputs": [],
   "source": [
    "image = cv2.imread('test_images/test1.jpg')\n",
    "image = cv2.cvtColor(image, cv2.COLOR_BGR2RGB)\n",
    "\n",
    "heatmap = heatmodel.predict(image.reshape(1, image.shape[0], image.shape[1], image.shape[2]))\n",
    "print(image.shape)\n",
    "print(heatmap.shape)"
   ]
  },
  {
   "cell_type": "code",
   "execution_count": null,
   "metadata": {},
   "outputs": [],
   "source": [
    "# Visualize undistortion\n",
    "f, (ax1, ax2) = plt.subplots(1, 2, figsize=(20,10))\n",
    "ax1.imshow(image)\n",
    "ax1.set_title('Car Image', fontsize=30)\n",
    "ax2.imshow(heatmap[0,:,:,0])\n",
    "ax2.set_title('Heatmap Image', fontsize=30)"
   ]
  },
  {
   "cell_type": "code",
   "execution_count": null,
   "metadata": {},
   "outputs": [],
   "source": [
    "print(heatmap)"
   ]
  },
  {
   "cell_type": "code",
   "execution_count": null,
   "metadata": {},
   "outputs": [],
   "source": [
    "from scipy.ndimage.measurements import label\n",
    "\n",
    "# Find final boxes from heatmap using label function\n",
    "labels = label(heatmap)\n",
    "print(labels)"
   ]
  },
  {
   "cell_type": "code",
   "execution_count": null,
   "metadata": {},
   "outputs": [],
   "source": [
    "# Visualize undistortion\n",
    "f, (ax1, ax2) = plt.subplots(1, 2, figsize=(20,10))\n",
    "ax1.imshow(image)\n",
    "ax1.set_title('Car Image', fontsize=30)\n",
    "ax2.imshow(heatmap[0,:,:,0]>THRESHOLD, cmap=\"gray\")\n",
    "ax2.set_title('Heatmap Image', fontsize=30)"
   ]
  },
  {
   "cell_type": "code",
   "execution_count": null,
   "metadata": {},
   "outputs": [],
   "source": [
    "xx, yy = np.meshgrid(np.arange(heatmap.shape[2]),np.arange(heatmap.shape[1]))\n",
    "x = (xx[heatmap[0,:,:,0]>THRESHOLD])\n",
    "y = (yy[heatmap[0,:,:,0]>THRESHOLD])"
   ]
  },
  {
   "cell_type": "code",
   "execution_count": null,
   "metadata": {},
   "outputs": [],
   "source": [
    "print(xx.shape)\n",
    "print(yy.shape)"
   ]
  },
  {
   "cell_type": "code",
   "execution_count": null,
   "metadata": {},
   "outputs": [],
   "source": [
    "print(len(x))\n",
    "print(len(y))"
   ]
  },
  {
   "cell_type": "code",
   "execution_count": null,
   "metadata": {},
   "outputs": [],
   "source": [
    "original_image = image.copy()"
   ]
  },
  {
   "cell_type": "code",
   "execution_count": null,
   "metadata": {},
   "outputs": [],
   "source": [
    "rect = []\n",
    "for i,j in zip(x,y):\n",
    "        #print(i*8, j*8)\n",
    "        mx = i*8\n",
    "        my = j*8\n",
    "        print(mx, my)\n",
    "        if my >= 400 and my <= 620:\n",
    "            cv2.rectangle(image, (mx, my), (mx+64,my+64), (0,0,255), 5)\n",
    "            rect.append((mx, my, 64, 64))\n",
    "\n",
    "# Visualize undistortion\n",
    "f, (ax1, ax2) = plt.subplots(1, 2, figsize=(20,10))\n",
    "ax1.imshow(original_image)\n",
    "ax1.set_title('Car Image', fontsize=30)\n",
    "ax2.imshow(image)\n",
    "ax2.set_title('Augmented Image', fontsize=30)\n",
    "\n",
    "#plt.title(\"Augmented\")    \n",
    "#plt.imshow(image)\n",
    "#plt.show()"
   ]
  },
  {
   "cell_type": "code",
   "execution_count": null,
   "metadata": {},
   "outputs": [],
   "source": [
    "print(rect)"
   ]
  },
  {
   "cell_type": "code",
   "execution_count": null,
   "metadata": {},
   "outputs": [],
   "source": [
    "thresh=1\n",
    "#rect1 , w1 = cv2.groupRectangles(list(rect), thresh)\n",
    "#rect1 , w1 = cv2.groupRectangles(list(rect), thresh, 0.1)\n",
    "rect1 , w1 = cv2.groupRectangles(np.array(rect).tolist(), 6, 0.4)\n",
    "#np.array(mouth).tolist()\n",
    "print(rect1)"
   ]
  },
  {
   "cell_type": "code",
   "execution_count": null,
   "metadata": {},
   "outputs": [],
   "source": [
    "print(w1)"
   ]
  },
  {
   "cell_type": "code",
   "execution_count": null,
   "metadata": {},
   "outputs": [],
   "source": [
    "image = cv2.imread('test_images/test5.jpg')\n",
    "image = cv2.cvtColor(image, cv2.COLOR_BGR2RGB)\n",
    "\n",
    "for (mx,my,mw,mh) in rect1:\n",
    "        #print(i*8, j*8)\n",
    "        cv2.rectangle(image, (mx, my), (mx+mw, my+mh), (0,0,255), 5)\n",
    "\n",
    "plt.title(\"Augmented\")    \n",
    "plt.imshow(image)\n",
    "plt.show()"
   ]
  },
  {
   "cell_type": "code",
   "execution_count": null,
   "metadata": {},
   "outputs": [],
   "source": [
    "print(rect)"
   ]
  },
  {
   "cell_type": "code",
   "execution_count": null,
   "metadata": {},
   "outputs": [],
   "source": [
    "rect1 , w1 = cv2.groupRectangles(np.array(rect).tolist(), 1, 1)\n"
   ]
  },
  {
   "cell_type": "code",
   "execution_count": null,
   "metadata": {},
   "outputs": [],
   "source": [
    "np.array(rect)[:,0]"
   ]
  },
  {
   "cell_type": "code",
   "execution_count": null,
   "metadata": {},
   "outputs": [],
   "source": [
    "rect2 = non_max_suppression_fast(np.array(rect), 0)\n",
    "print(len(rect))\n",
    "print(len(rect2))"
   ]
  },
  {
   "cell_type": "code",
   "execution_count": null,
   "metadata": {},
   "outputs": [],
   "source": []
  }
 ],
 "metadata": {
  "anaconda-cloud": {},
  "kernelspec": {
   "display_name": "Python 3",
   "language": "python",
   "name": "python3"
  },
  "language_info": {
   "codemirror_mode": {
    "name": "ipython",
    "version": 3
   },
   "file_extension": ".py",
   "mimetype": "text/x-python",
   "name": "python",
   "nbconvert_exporter": "python",
   "pygments_lexer": "ipython3",
   "version": "3.5.2"
  },
  "widgets": {
   "state": {},
   "version": "1.1.2"
  }
 },
 "nbformat": 4,
 "nbformat_minor": 1
}
